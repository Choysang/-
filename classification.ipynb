{
 "cells": [
  {
   "cell_type": "code",
   "execution_count": 474,
   "metadata": {},
   "outputs": [],
   "source": [
    "from openpyxl import load_workbook\n",
    "import numpy as np\n",
    "import warnings\n",
    "warnings.filterwarnings('ignore') #将警告滤掉\n",
    "workbook = load_workbook('data_depression.xlsx')"
   ]
  },
  {
   "cell_type": "code",
   "execution_count": 475,
   "metadata": {},
   "outputs": [],
   "source": [
    "# 读取数据\n",
    "sheets = workbook.get_sheet_names()         #从名称获取sheet\n",
    "booksheet = workbook.get_sheet_by_name('抑郁脑电图')\n",
    "row=booksheet.max_row   # 数据的行总数\n",
    "column=booksheet.max_column   # 数据的列总数\n",
    "\n"
   ]
  },
  {
   "cell_type": "code",
   "execution_count": 476,
   "metadata": {},
   "outputs": [],
   "source": [
    "# 分别读取特征和类标签\n",
    "\n",
    "list_values=[]   # 暂存X特征\n",
    "values=[]\n",
    "list_y=[]   # 暂存y属性\n",
    "for r in range(4 , row+1):\n",
    "    if len(values)==76:\n",
    "        list_values.append(values)\n",
    "        values=[]\n",
    "    \n",
    "    for c in range(4,10):\n",
    "        if c==4:\n",
    "            if (r+15)%19==0:  # 读取HAMD评分\n",
    "                list_y.append(booksheet.cell(r,c).value)\n",
    "        \n",
    "        elif c>= 6:  # 读取另外76个特征\n",
    "            values.append(booksheet.cell(r,c).value)\n",
    "        else:\n",
    "            pass\n",
    "list_values.append(values)\n"
   ]
  },
  {
   "cell_type": "code",
   "execution_count": 477,
   "metadata": {},
   "outputs": [],
   "source": [
    "# 得到x,y\n",
    "import pandas\n",
    "x=pandas.DataFrame(list_values)  # 将list转换为pandas中的dataframe,得到x\n",
    "# print(x)\n",
    "class_y=[]\n",
    "for i in list_y:\n",
    "    if i<=17:\n",
    "        class_y.append(0)\n",
    "    else:\n",
    "        class_y.append(1)\n",
    "y = pandas.DataFrame(class_y)  # 将list转换为pandas中的dataframe,得到y\n"
   ]
  },
  {
   "cell_type": "code",
   "execution_count": 478,
   "metadata": {
    "scrolled": true
   },
   "outputs": [
    {
     "name": "stdout",
     "output_type": "stream",
     "text": [
      "<class 'pandas.core.frame.DataFrame'>\n",
      "RangeIndex: 92 entries, 0 to 91\n",
      "Data columns (total 76 columns):\n",
      "0     92 non-null float64\n",
      "1     92 non-null float64\n",
      "2     92 non-null float64\n",
      "3     92 non-null float64\n",
      "4     92 non-null float64\n",
      "5     92 non-null float64\n",
      "6     92 non-null float64\n",
      "7     92 non-null float64\n",
      "8     92 non-null float64\n",
      "9     92 non-null float64\n",
      "10    92 non-null float64\n",
      "11    92 non-null float64\n",
      "12    92 non-null float64\n",
      "13    92 non-null float64\n",
      "14    92 non-null float64\n",
      "15    92 non-null float64\n",
      "16    92 non-null float64\n",
      "17    92 non-null float64\n",
      "18    92 non-null float64\n",
      "19    92 non-null float64\n",
      "20    92 non-null float64\n",
      "21    92 non-null float64\n",
      "22    92 non-null float64\n",
      "23    92 non-null float64\n",
      "24    92 non-null float64\n",
      "25    92 non-null float64\n",
      "26    92 non-null float64\n",
      "27    92 non-null float64\n",
      "28    92 non-null float64\n",
      "29    92 non-null float64\n",
      "30    92 non-null float64\n",
      "31    92 non-null float64\n",
      "32    92 non-null float64\n",
      "33    92 non-null float64\n",
      "34    92 non-null float64\n",
      "35    92 non-null float64\n",
      "36    92 non-null float64\n",
      "37    92 non-null float64\n",
      "38    92 non-null float64\n",
      "39    92 non-null float64\n",
      "40    92 non-null float64\n",
      "41    92 non-null float64\n",
      "42    92 non-null float64\n",
      "43    92 non-null float64\n",
      "44    92 non-null float64\n",
      "45    92 non-null float64\n",
      "46    92 non-null float64\n",
      "47    92 non-null float64\n",
      "48    92 non-null float64\n",
      "49    92 non-null float64\n",
      "50    92 non-null float64\n",
      "51    92 non-null float64\n",
      "52    92 non-null float64\n",
      "53    92 non-null float64\n",
      "54    92 non-null float64\n",
      "55    92 non-null float64\n",
      "56    92 non-null float64\n",
      "57    92 non-null float64\n",
      "58    92 non-null float64\n",
      "59    92 non-null float64\n",
      "60    92 non-null float64\n",
      "61    92 non-null float64\n",
      "62    92 non-null float64\n",
      "63    92 non-null float64\n",
      "64    92 non-null float64\n",
      "65    92 non-null float64\n",
      "66    92 non-null float64\n",
      "67    92 non-null float64\n",
      "68    92 non-null float64\n",
      "69    92 non-null float64\n",
      "70    92 non-null float64\n",
      "71    92 non-null float64\n",
      "72    92 non-null float64\n",
      "73    92 non-null float64\n",
      "74    92 non-null float64\n",
      "75    92 non-null float64\n",
      "dtypes: float64(76)\n",
      "memory usage: 54.8 KB\n"
     ]
    }
   ],
   "source": [
    "# 查看x的信息\n",
    "x.info()"
   ]
  },
  {
   "cell_type": "code",
   "execution_count": 480,
   "metadata": {
    "scrolled": true
   },
   "outputs": [
    {
     "name": "stdout",
     "output_type": "stream",
     "text": [
      "<class 'pandas.core.frame.DataFrame'>\n",
      "RangeIndex: 92 entries, 0 to 91\n",
      "Data columns (total 1 columns):\n",
      "0    92 non-null int64\n",
      "dtypes: int64(1)\n",
      "memory usage: 864.0 bytes\n"
     ]
    }
   ],
   "source": [
    "# 查看y的信息\n",
    "y.info()"
   ]
  },
  {
   "cell_type": "code",
   "execution_count": 481,
   "metadata": {
    "scrolled": true
   },
   "outputs": [
    {
     "data": {
      "text/html": [
       "<div>\n",
       "<style scoped>\n",
       "    .dataframe tbody tr th:only-of-type {\n",
       "        vertical-align: middle;\n",
       "    }\n",
       "\n",
       "    .dataframe tbody tr th {\n",
       "        vertical-align: top;\n",
       "    }\n",
       "\n",
       "    .dataframe thead th {\n",
       "        text-align: right;\n",
       "    }\n",
       "</style>\n",
       "<table border=\"1\" class=\"dataframe\">\n",
       "  <thead>\n",
       "    <tr style=\"text-align: right;\">\n",
       "      <th></th>\n",
       "      <th>0</th>\n",
       "      <th>1</th>\n",
       "      <th>2</th>\n",
       "      <th>3</th>\n",
       "      <th>4</th>\n",
       "      <th>5</th>\n",
       "      <th>6</th>\n",
       "      <th>7</th>\n",
       "      <th>8</th>\n",
       "      <th>9</th>\n",
       "      <th>...</th>\n",
       "      <th>66</th>\n",
       "      <th>67</th>\n",
       "      <th>68</th>\n",
       "      <th>69</th>\n",
       "      <th>70</th>\n",
       "      <th>71</th>\n",
       "      <th>72</th>\n",
       "      <th>73</th>\n",
       "      <th>74</th>\n",
       "      <th>75</th>\n",
       "    </tr>\n",
       "  </thead>\n",
       "  <tbody>\n",
       "    <tr>\n",
       "      <th>count</th>\n",
       "      <td>92.000000</td>\n",
       "      <td>92.000000</td>\n",
       "      <td>92.000000</td>\n",
       "      <td>92.000000</td>\n",
       "      <td>92.000000</td>\n",
       "      <td>92.000000</td>\n",
       "      <td>92.000000</td>\n",
       "      <td>92.000000</td>\n",
       "      <td>92.000000</td>\n",
       "      <td>92.000000</td>\n",
       "      <td>...</td>\n",
       "      <td>92.000000</td>\n",
       "      <td>92.000000</td>\n",
       "      <td>92.000000</td>\n",
       "      <td>92.000000</td>\n",
       "      <td>92.000000</td>\n",
       "      <td>92.000000</td>\n",
       "      <td>92.000000</td>\n",
       "      <td>92.000000</td>\n",
       "      <td>92.000000</td>\n",
       "      <td>92.000000</td>\n",
       "    </tr>\n",
       "    <tr>\n",
       "      <th>mean</th>\n",
       "      <td>69.003261</td>\n",
       "      <td>35.840217</td>\n",
       "      <td>40.268478</td>\n",
       "      <td>21.192391</td>\n",
       "      <td>64.526087</td>\n",
       "      <td>31.931522</td>\n",
       "      <td>37.963043</td>\n",
       "      <td>19.454348</td>\n",
       "      <td>43.670652</td>\n",
       "      <td>30.498913</td>\n",
       "      <td>...</td>\n",
       "      <td>27.945652</td>\n",
       "      <td>18.170652</td>\n",
       "      <td>33.120652</td>\n",
       "      <td>27.371739</td>\n",
       "      <td>44.185870</td>\n",
       "      <td>22.503261</td>\n",
       "      <td>32.655435</td>\n",
       "      <td>26.042391</td>\n",
       "      <td>46.438043</td>\n",
       "      <td>22.040217</td>\n",
       "    </tr>\n",
       "    <tr>\n",
       "      <th>std</th>\n",
       "      <td>46.165827</td>\n",
       "      <td>19.601094</td>\n",
       "      <td>18.311246</td>\n",
       "      <td>11.630712</td>\n",
       "      <td>44.933932</td>\n",
       "      <td>14.804424</td>\n",
       "      <td>13.796844</td>\n",
       "      <td>9.186079</td>\n",
       "      <td>32.932967</td>\n",
       "      <td>15.112563</td>\n",
       "      <td>...</td>\n",
       "      <td>11.294338</td>\n",
       "      <td>9.486561</td>\n",
       "      <td>19.567823</td>\n",
       "      <td>14.104978</td>\n",
       "      <td>19.803438</td>\n",
       "      <td>11.480212</td>\n",
       "      <td>21.699726</td>\n",
       "      <td>12.306821</td>\n",
       "      <td>21.020675</td>\n",
       "      <td>10.235406</td>\n",
       "    </tr>\n",
       "    <tr>\n",
       "      <th>min</th>\n",
       "      <td>16.000000</td>\n",
       "      <td>9.100000</td>\n",
       "      <td>12.000000</td>\n",
       "      <td>8.400000</td>\n",
       "      <td>10.600000</td>\n",
       "      <td>8.900000</td>\n",
       "      <td>12.600000</td>\n",
       "      <td>8.400000</td>\n",
       "      <td>8.700000</td>\n",
       "      <td>7.500000</td>\n",
       "      <td>...</td>\n",
       "      <td>13.400000</td>\n",
       "      <td>7.300000</td>\n",
       "      <td>7.900000</td>\n",
       "      <td>6.800000</td>\n",
       "      <td>7.800000</td>\n",
       "      <td>5.900000</td>\n",
       "      <td>8.300000</td>\n",
       "      <td>8.100000</td>\n",
       "      <td>11.600000</td>\n",
       "      <td>5.900000</td>\n",
       "    </tr>\n",
       "    <tr>\n",
       "      <th>25%</th>\n",
       "      <td>35.100000</td>\n",
       "      <td>23.600000</td>\n",
       "      <td>28.475000</td>\n",
       "      <td>13.675000</td>\n",
       "      <td>29.075000</td>\n",
       "      <td>21.875000</td>\n",
       "      <td>28.050000</td>\n",
       "      <td>13.675000</td>\n",
       "      <td>22.450000</td>\n",
       "      <td>20.100000</td>\n",
       "      <td>...</td>\n",
       "      <td>19.950000</td>\n",
       "      <td>12.575000</td>\n",
       "      <td>22.425000</td>\n",
       "      <td>17.675000</td>\n",
       "      <td>31.075000</td>\n",
       "      <td>16.475000</td>\n",
       "      <td>19.400000</td>\n",
       "      <td>15.825000</td>\n",
       "      <td>29.975000</td>\n",
       "      <td>15.700000</td>\n",
       "    </tr>\n",
       "    <tr>\n",
       "      <th>50%</th>\n",
       "      <td>57.850000</td>\n",
       "      <td>32.550000</td>\n",
       "      <td>36.300000</td>\n",
       "      <td>17.850000</td>\n",
       "      <td>57.100000</td>\n",
       "      <td>30.100000</td>\n",
       "      <td>36.000000</td>\n",
       "      <td>17.300000</td>\n",
       "      <td>37.500000</td>\n",
       "      <td>28.750000</td>\n",
       "      <td>...</td>\n",
       "      <td>26.250000</td>\n",
       "      <td>16.050000</td>\n",
       "      <td>27.900000</td>\n",
       "      <td>24.400000</td>\n",
       "      <td>39.150000</td>\n",
       "      <td>21.000000</td>\n",
       "      <td>25.650000</td>\n",
       "      <td>22.500000</td>\n",
       "      <td>44.150000</td>\n",
       "      <td>20.250000</td>\n",
       "    </tr>\n",
       "    <tr>\n",
       "      <th>75%</th>\n",
       "      <td>86.850000</td>\n",
       "      <td>39.700000</td>\n",
       "      <td>48.250000</td>\n",
       "      <td>26.825000</td>\n",
       "      <td>85.950000</td>\n",
       "      <td>37.100000</td>\n",
       "      <td>46.725000</td>\n",
       "      <td>23.750000</td>\n",
       "      <td>53.375000</td>\n",
       "      <td>37.125000</td>\n",
       "      <td>...</td>\n",
       "      <td>32.950000</td>\n",
       "      <td>19.900000</td>\n",
       "      <td>39.875000</td>\n",
       "      <td>31.950000</td>\n",
       "      <td>53.975000</td>\n",
       "      <td>24.500000</td>\n",
       "      <td>38.775000</td>\n",
       "      <td>33.125000</td>\n",
       "      <td>61.500000</td>\n",
       "      <td>26.525000</td>\n",
       "    </tr>\n",
       "    <tr>\n",
       "      <th>max</th>\n",
       "      <td>230.400000</td>\n",
       "      <td>131.000000</td>\n",
       "      <td>109.000000</td>\n",
       "      <td>82.100000</td>\n",
       "      <td>229.100000</td>\n",
       "      <td>98.800000</td>\n",
       "      <td>73.600000</td>\n",
       "      <td>61.700000</td>\n",
       "      <td>203.700000</td>\n",
       "      <td>76.400000</td>\n",
       "      <td>...</td>\n",
       "      <td>58.700000</td>\n",
       "      <td>67.400000</td>\n",
       "      <td>116.600000</td>\n",
       "      <td>79.100000</td>\n",
       "      <td>120.400000</td>\n",
       "      <td>85.600000</td>\n",
       "      <td>130.400000</td>\n",
       "      <td>67.500000</td>\n",
       "      <td>119.600000</td>\n",
       "      <td>73.900000</td>\n",
       "    </tr>\n",
       "  </tbody>\n",
       "</table>\n",
       "<p>8 rows × 76 columns</p>\n",
       "</div>"
      ],
      "text/plain": [
       "               0           1           2          3           4          5   \\\n",
       "count   92.000000   92.000000   92.000000  92.000000   92.000000  92.000000   \n",
       "mean    69.003261   35.840217   40.268478  21.192391   64.526087  31.931522   \n",
       "std     46.165827   19.601094   18.311246  11.630712   44.933932  14.804424   \n",
       "min     16.000000    9.100000   12.000000   8.400000   10.600000   8.900000   \n",
       "25%     35.100000   23.600000   28.475000  13.675000   29.075000  21.875000   \n",
       "50%     57.850000   32.550000   36.300000  17.850000   57.100000  30.100000   \n",
       "75%     86.850000   39.700000   48.250000  26.825000   85.950000  37.100000   \n",
       "max    230.400000  131.000000  109.000000  82.100000  229.100000  98.800000   \n",
       "\n",
       "              6          7           8          9   ...         66         67  \\\n",
       "count  92.000000  92.000000   92.000000  92.000000  ...  92.000000  92.000000   \n",
       "mean   37.963043  19.454348   43.670652  30.498913  ...  27.945652  18.170652   \n",
       "std    13.796844   9.186079   32.932967  15.112563  ...  11.294338   9.486561   \n",
       "min    12.600000   8.400000    8.700000   7.500000  ...  13.400000   7.300000   \n",
       "25%    28.050000  13.675000   22.450000  20.100000  ...  19.950000  12.575000   \n",
       "50%    36.000000  17.300000   37.500000  28.750000  ...  26.250000  16.050000   \n",
       "75%    46.725000  23.750000   53.375000  37.125000  ...  32.950000  19.900000   \n",
       "max    73.600000  61.700000  203.700000  76.400000  ...  58.700000  67.400000   \n",
       "\n",
       "               68         69          70         71          72         73  \\\n",
       "count   92.000000  92.000000   92.000000  92.000000   92.000000  92.000000   \n",
       "mean    33.120652  27.371739   44.185870  22.503261   32.655435  26.042391   \n",
       "std     19.567823  14.104978   19.803438  11.480212   21.699726  12.306821   \n",
       "min      7.900000   6.800000    7.800000   5.900000    8.300000   8.100000   \n",
       "25%     22.425000  17.675000   31.075000  16.475000   19.400000  15.825000   \n",
       "50%     27.900000  24.400000   39.150000  21.000000   25.650000  22.500000   \n",
       "75%     39.875000  31.950000   53.975000  24.500000   38.775000  33.125000   \n",
       "max    116.600000  79.100000  120.400000  85.600000  130.400000  67.500000   \n",
       "\n",
       "               74         75  \n",
       "count   92.000000  92.000000  \n",
       "mean    46.438043  22.040217  \n",
       "std     21.020675  10.235406  \n",
       "min     11.600000   5.900000  \n",
       "25%     29.975000  15.700000  \n",
       "50%     44.150000  20.250000  \n",
       "75%     61.500000  26.525000  \n",
       "max    119.600000  73.900000  \n",
       "\n",
       "[8 rows x 76 columns]"
      ]
     },
     "execution_count": 481,
     "metadata": {},
     "output_type": "execute_result"
    }
   ],
   "source": [
    "# 查看x的描述信息\n",
    "x.describe()"
   ]
  },
  {
   "cell_type": "code",
   "execution_count": null,
   "metadata": {},
   "outputs": [],
   "source": []
  },
  {
   "cell_type": "code",
   "execution_count": 483,
   "metadata": {},
   "outputs": [
    {
     "data": {
      "text/plain": [
       "(92, 10)"
      ]
     },
     "execution_count": 483,
     "metadata": {},
     "output_type": "execute_result"
    }
   ],
   "source": [
    "# 使用 SelectKBest进行特征选择，降维处理\n",
    "from sklearn.feature_selection import SelectKBest\n",
    "model  = SelectKBest(score_func=mutual_info_classif).fit(x,y)\n",
    "x_new = model.transform(x)\n",
    "x_new.shape"
   ]
  },
  {
   "cell_type": "code",
   "execution_count": 398,
   "metadata": {},
   "outputs": [],
   "source": []
  },
  {
   "cell_type": "code",
   "execution_count": 484,
   "metadata": {},
   "outputs": [],
   "source": [
    "# 对数据进行标准化\n",
    "from sklearn.preprocessing import scale\n",
    "x_new = scale(x_new)"
   ]
  },
  {
   "cell_type": "code",
   "execution_count": 547,
   "metadata": {},
   "outputs": [],
   "source": [
    "# 划分训练集和测试集\n",
    "from sklearn.model_selection import train_test_split\n",
    "#x为数据集的feature熟悉，y为label.\n",
    "x_train, x_test, y_train, y_test = train_test_split(x_new, y, test_size = 0.3)"
   ]
  },
  {
   "cell_type": "code",
   "execution_count": null,
   "metadata": {},
   "outputs": [],
   "source": []
  },
  {
   "cell_type": "code",
   "execution_count": 572,
   "metadata": {},
   "outputs": [
    {
     "name": "stdout",
     "output_type": "stream",
     "text": [
      "svc模型得分: 0.7143\n",
      "confusion_matrix：\n",
      " [[17  2]\n",
      " [ 6  3]] \n",
      "\n",
      "              precision    recall  f1-score   support\n",
      "\n",
      "           0       0.74      0.89      0.81        19\n",
      "           1       0.60      0.33      0.43         9\n",
      "\n",
      "    accuracy                           0.71        28\n",
      "   macro avg       0.67      0.61      0.62        28\n",
      "weighted avg       0.69      0.71      0.69        28\n",
      "\n",
      "auc: 0.7602339181286549\n"
     ]
    }
   ],
   "source": [
    "# 使用SVM建模\n",
    "from sklearn.preprocessing import StandardScaler\n",
    "from sklearn.svm import SVC\n",
    "from sklearn.pipeline import make_pipeline\n",
    "from sklearn.metrics import accuracy_score\n",
    "from sklearn.metrics import confusion_matrix\n",
    "from sklearn.metrics import classification_report\n",
    "from sklearn import metrics\n",
    "import matplotlib.pyplot as plt\n",
    "\n",
    "clf_rbf = SVC(kernel='rbf',C=10,gamma= 0.5)\n",
    "clf_rbf.fit(x_train,y_train)\n",
    "y_rbf_hat = clf_rbf.predict(x_test)\n",
    "\n",
    "print('svc模型得分: %.4f' % clf_rbf.score(x_test, y_test))\n",
    "\n",
    "conf_mat = confusion_matrix(y_test, y_rbf_hat)\n",
    "print(\"confusion_matrix：\\n\",conf_mat,'\\n')\n",
    "print(classification_report(y_test, y_rbf_hat))\n",
    "\n",
    "y_pro = clf_rbf.fit(x_train, y_train).decision_function(x_test)\n",
    "# 计算AUC\n",
    "fpr, tpr, thresholds = metrics.roc_curve(y_test, y_pro)\n",
    "auc = metrics.auc(fpr, tpr)\n",
    "print('auc:',auc)"
   ]
  },
  {
   "cell_type": "code",
   "execution_count": 573,
   "metadata": {
    "scrolled": true
   },
   "outputs": [
    {
     "data": {
      "text/plain": [
       "<Figure size 432x288 with 0 Axes>"
      ]
     },
     "metadata": {},
     "output_type": "display_data"
    },
    {
     "data": {
      "image/png": "[encoded data removed]",
      "text/plain": [
       "<Figure size 360x360 with 1 Axes>"
      ]
     },
     "metadata": {
      "needs_background": "light"
     },
     "output_type": "display_data"
    }
   ],
   "source": [
    "plt.figure()\n",
    "lw = 2\n",
    "plt.figure(figsize=(5,5))\n",
    "plt.plot(fpr, tpr, color='darkorange',\n",
    "         lw=lw, label='ROC curve (area = %0.2f)' % auc) ###假正率为横坐标，真正率为纵坐标做曲线\n",
    "plt.plot([0, 1], [0, 1], color='navy', lw=lw, linestyle='--')\n",
    "plt.xlim([0.0, 1.0])\n",
    "plt.ylim([0.0, 1.05])\n",
    "plt.xlabel('False Positive Rate')\n",
    "plt.ylabel('True Positive Rate')\n",
    "plt.title('Receiver operating characteristic example')\n",
    "plt.legend(loc=\"high right\")\n",
    "plt.show()"
   ]
  },
  {
   "cell_type": "code",
   "execution_count": 574,
   "metadata": {},
   "outputs": [
    {
     "name": "stdout",
     "output_type": "stream",
     "text": [
      "交叉验证得分:\n",
      "[0.6        0.8        0.8        0.5        0.55555556 0.77777778\n",
      " 0.66666667 0.77777778 0.875      0.625     ]\n",
      "交叉验证平均分:0.698\n"
     ]
    }
   ],
   "source": [
    "from sklearn.model_selection import cross_val_score\n",
    "scores=cross_val_score(clf_rbf,x_new,y,cv=10)\n",
    "print('交叉验证得分:\\n{}'.format(scores))\n",
    "#计算交叉验证平均分\n",
    "print('交叉验证平均分:{:.3f}'.format(scores.mean()))"
   ]
  },
  {
   "cell_type": "code",
   "execution_count": 576,
   "metadata": {},
   "outputs": [
    {
     "data": {
      "text/plain": [
       "SVC(C=10, cache_size=200, class_weight=None, coef0=0.0,\n",
       "    decision_function_shape='ovr', degree=3, gamma=0.5, kernel='rbf',\n",
       "    max_iter=-1, probability=False, random_state=None, shrinking=True,\n",
       "    tol=0.001, verbose=False)"
      ]
     },
     "execution_count": 576,
     "metadata": {},
     "output_type": "execute_result"
    }
   ],
   "source": [
    "clf_rbf"
   ]
  },
  {
   "cell_type": "code",
   "execution_count": 578,
   "metadata": {},
   "outputs": [
    {
     "data": {
      "image/png": "[encoded data removed]",
      "text/plain": [
       "<Figure size 432x288 with 1 Axes>"
      ]
     },
     "metadata": {
      "needs_background": "light"
     },
     "output_type": "display_data"
    }
   ],
   "source": [
    "# 交叉验证可视化图\n",
    "plt.plot(range(1,11),scores,label=\"SVM\")\n",
    "plt.legend()\n",
    "plt.show()"
   ]
  },
  {
   "cell_type": "code",
   "execution_count": null,
   "metadata": {},
   "outputs": [],
   "source": []
  }
 ],
 "metadata": {
  "kernelspec": {
   "display_name": "Python 3",
   "language": "python",
   "name": "python3"
  },
  "language_info": {
   "codemirror_mode": {
    "name": "ipython",
    "version": 3
   },
   "file_extension": ".py",
   "mimetype": "text/x-python",
   "name": "python",
   "nbconvert_exporter": "python",
   "pygments_lexer": "ipython3",
   "version": "3.6.8"
  }
 },
 "nbformat": 4,
 "nbformat_minor": 2
}
